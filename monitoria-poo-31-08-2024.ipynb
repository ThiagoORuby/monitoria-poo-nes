{
 "cells": [
  {
   "cell_type": "code",
   "execution_count": 9,
   "id": "9bc1ba65-0223-4d88-addb-53fb761b75ac",
   "metadata": {},
   "outputs": [],
   "source": [
    "class Animal:\n",
    "\n",
    "    def __init__(self, nome: str, cor: str):\n",
    "        self.nome = nome\n",
    "        self.cor = cor\n",
    "\n",
    "    def imprime(self):\n",
    "        print(f\"Animal<nome = {self.nome}, cor = {self.cor}>\")\n",
    "\n",
    "\n",
    "class Cachorro(Animal):\n",
    "\n",
    "    def __init__(self, nome: str, cor: str, raca: str):\n",
    "        super().__init__(nome, cor)\n",
    "        self.raca = raca\n",
    "\n",
    "    def imprime(self):\n",
    "        print(f\"Cachorro<nome = {self.nome}, cor = {self.cor}, raça = {self.raca}>\")"
   ]
  },
  {
   "cell_type": "code",
   "execution_count": 11,
   "id": "a179c741-9d43-4365-98ee-15bbc0ee227d",
   "metadata": {},
   "outputs": [
    {
     "name": "stdout",
     "output_type": "stream",
     "text": [
      "Animal<nome = animal1, cor = branco>\n",
      "Cachorro<nome = cachorro1, cor = azul, raça = raca1>\n"
     ]
    }
   ],
   "source": [
    "\n",
    "animal1 = Animal(\"animal1\", \"branco\")\n",
    "\n",
    "cachorro = Cachorro(\"cachorro1\", \"azul\", \"raca1\")\n",
    "\n",
    "animal1.imprime()\n",
    "cachorro.imprime()"
   ]
  },
  {
   "cell_type": "code",
   "execution_count": 42,
   "id": "e6d71b67-54ae-43e8-935b-e1c68a8843c6",
   "metadata": {},
   "outputs": [],
   "source": [
    "# PILHA\n",
    "\n",
    "\n",
    "class Pilha:\n",
    "\n",
    "    def __init__(self):\n",
    "        self.__pilha: list[int] = []\n",
    "        self.__idx: int = -1\n",
    "\n",
    "    # push\n",
    "    def push(self, value: int) -> None:\n",
    "        self.__pilha.append(value)\n",
    "        self.__idx += 1\n",
    "    # pop\n",
    "    def pop(self) -> int | None:\n",
    "        if self.empty():\n",
    "            return print(\"Pilha vazia :(\")\n",
    "        value = self.__pilha.pop(-1)\n",
    "        self.__idx -= 1\n",
    "        return value\n",
    "    \n",
    "    # top\n",
    "    def top(self) -> int | None:\n",
    "        if self.empty():\n",
    "            return print(\"Pilha vazia :(\")\n",
    "        return self.__pilha[self._idx]\n",
    "    \n",
    "    # empty\n",
    "    def empty(self) -> bool:\n",
    "        return (self.__idx == -1)\n",
    "\n",
    "    def print(self) -> None:\n",
    "        print(\"\\n\")\n",
    "        if self.empty():\n",
    "            print(\"Pilha vazia :(\")\n",
    "        for i in range(self.__idx, -1, -1):\n",
    "            print(f\"[{self.__pilha[i]}]\")"
   ]
  },
  {
   "cell_type": "code",
   "execution_count": 43,
   "id": "c3f25104-15d1-4c6c-8cef-c134182db71c",
   "metadata": {},
   "outputs": [
    {
     "name": "stdout",
     "output_type": "stream",
     "text": [
      "PILHA\n",
      "\n",
      "\n",
      "[5]\n",
      "[3]\n",
      "[2]\n",
      "[1]\n",
      "\n",
      "\n",
      "[3]\n",
      "[2]\n",
      "[1]\n",
      "\n",
      "\n",
      "[2]\n",
      "[1]\n",
      "\n",
      "\n",
      "[1]\n",
      "\n",
      "\n",
      "Pilha vazia :(\n",
      "Pilha vazia :(\n"
     ]
    }
   ],
   "source": [
    "pilha = Pilha()\n",
    "\n",
    "pilha.push(1)\n",
    "pilha.push(2)\n",
    "pilha.push(3)\n",
    "pilha.push(5)\n",
    "\n",
    "print(\"PILHA\")\n",
    "pilha.print()\n",
    "\n",
    "pilha.pop()\n",
    "pilha.print()\n",
    "pilha.pop()\n",
    "pilha.print()\n",
    "pilha.pop()\n",
    "pilha.print()\n",
    "pilha.pop()\n",
    "pilha.print()\n",
    "pilha.pop()\n",
    "\n"
   ]
  },
  {
   "cell_type": "code",
   "execution_count": 59,
   "id": "4bd54470-1d34-4cbd-9a07-f87e01620c8e",
   "metadata": {},
   "outputs": [],
   "source": [
    "class Queue:\n",
    "\n",
    "    def __init__(self):\n",
    "        self.__fila: list[int] = []\n",
    "        self.__idx: int = -1\n",
    "        self.__tam: int = 0\n",
    "\n",
    "    def empty(self) -> None:\n",
    "        return (self.__idx == -1)\n",
    "    \n",
    "    def enqueue(self, value: int):\n",
    "        self.__fila.append(value)\n",
    "        self.__tam += 1\n",
    "        if self.empty():\n",
    "            self.__idx += 1\n",
    "\n",
    "    def dequeue(self):\n",
    "        if self.empty():\n",
    "            print(\"A fila ta vazia :(\")\n",
    "        self.__tam -= 1\n",
    "        return self.__fila.pop(0)\n",
    "\n",
    "    def front(self):\n",
    "        if self.empty():\n",
    "            print(\"A fila ta vazia :(\")\n",
    "        return self.__fila[self.__idx]\n",
    "\n",
    "    def print(self):\n",
    "        print(\"\\n\")\n",
    "        if self.empty():\n",
    "            print(\"Pilha vazia :(\")\n",
    "        for i in range(self.__tam):\n",
    "            print(f\"[{self.__fila[i]}]\", end=\"\")\n",
    "            if i < (self.__tam - 1):\n",
    "                print(\" -> \", end=\"\")\n",
    "        print()"
   ]
  },
  {
   "cell_type": "code",
   "execution_count": 61,
   "id": "53f75e1a-db6e-4786-bfe5-78341fd093ed",
   "metadata": {},
   "outputs": [
    {
     "name": "stdout",
     "output_type": "stream",
     "text": [
      "\n",
      "\n",
      "[1] -> [3] -> [4] -> [2] -> [9]\n",
      "\n",
      "\n",
      "[3] -> [4] -> [2] -> [9]\n"
     ]
    }
   ],
   "source": [
    "fila = Queue()\n",
    "\n",
    "fila.enqueue(1)\n",
    "fila.enqueue(3)\n",
    "fila.enqueue(4)\n",
    "fila.enqueue(2)\n",
    "fila.enqueue(9)\n",
    "\n",
    "fila.print()\n",
    "\n",
    "fila.dequeue()\n",
    "\n",
    "fila.print()"
   ]
  }
 ],
 "metadata": {
  "kernelspec": {
   "display_name": "Python 3 (ipykernel)",
   "language": "python",
   "name": "python3"
  },
  "language_info": {
   "codemirror_mode": {
    "name": "ipython",
    "version": 3
   },
   "file_extension": ".py",
   "mimetype": "text/x-python",
   "name": "python",
   "nbconvert_exporter": "python",
   "pygments_lexer": "ipython3",
   "version": "3.10.13"
  }
 },
 "nbformat": 4,
 "nbformat_minor": 5
}
