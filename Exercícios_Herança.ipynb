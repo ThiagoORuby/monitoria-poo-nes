{
 "cells": [
  {
   "cell_type": "markdown",
   "metadata": {
    "id": "jBRre_mKhXTO"
   },
   "source": [
    "## Xadrez com POO\n",
    "\n",
    "Implementando um Jogo de Xadrez usando os conceitos de POO\n",
    "\n",
    "![](xadrez.png)"
   ]
  },
  {
   "cell_type": "code",
   "execution_count": 2,
   "metadata": {
    "id": "gOJtpHiRrAcF"
   },
   "outputs": [],
   "source": [
    "from abc import ABC, abstractmethod\n",
    "from typing import Tuple\n",
    "\n",
    "class Peca(ABC):\n",
    "\n",
    "  def __init__(self, cor, posicao):\n",
    "    self.cor = cor\n",
    "    self.posicao = posicao\n",
    "\n",
    "  def mover(self, posicao_final: Tuple[int, int]) -> None:\n",
    "    \"\"\"\n",
    "    move a peça da posição atual para uma posição final\n",
    "\n",
    "    params:\n",
    "      posicao_final (Tuple[int, int]): posição de destino da peça\n",
    "    \"\"\"\n",
    "    if self.validar_movimento(posicao_final):\n",
    "      self.posicao = posicao_final\n",
    "    else:\n",
    "      print(\"Movimento Inválido\")\n",
    "\n",
    "  @abstractmethod\n",
    "  def validar_movimento(self, posicao_final):\n",
    "    pass"
   ]
  },
  {
   "cell_type": "code",
   "execution_count": 3,
   "metadata": {
    "id": "1zSBLeAQhUJx"
   },
   "outputs": [],
   "source": [
    "class Torre(Peca):\n",
    "\n",
    "  def validar_movimento(self, posicao_final):\n",
    "    # movimento horizontal e vertical\n",
    "    return (self.posicao[0] == self.posicao_final[0]) or (self.posicao[1] == self.posicao_final[1])\n",
    "\n",
    "  def __repr__(self):\n",
    "    return f\"<Torre | {self.cor}>\"\n",
    "\n",
    "class Rei(Peca):\n",
    "\n",
    "  def validar_movimento(self, posicao_final):\n",
    "    des_linha = abs(self.posicao[0] - self.posicao_final[0])\n",
    "    des_coluna = abs(self.posicao[1] - self.posicao_final[1])\n",
    "    return des_linha <= 1 and des_coluna <= 1\n",
    "\n",
    "  def __repr__(self):\n",
    "    return f\"<Rei | {self.cor}>\"\n",
    "\n",
    "class Bispo(Peca):\n",
    "\n",
    "  def validar_movimento(self, posicao_final):\n",
    "    des_linha = abs(self.posicao[0] - self.posicao_final[0])\n",
    "    des_coluna = abs(self.posicao[1] - self.posicao_final[1])\n",
    "    return des_linha == des_coluna\n",
    "\n",
    "  def __repr__(self):\n",
    "    return f\"<Bispo | {self.cor}>\"\n",
    "\n",
    "class Rainha(Peca):\n",
    "\n",
    "  def validar_movimento(self, posicao_final):\n",
    "    des_linha = abs(self.posicao[0] - self.posicao_final[0])\n",
    "    des_coluna = abs(self.posicao[1] - self.posicao_final[1])\n",
    "    return des_linha == des_coluna or des_linha == 0 or des_coluna == 0\n",
    "\n",
    "  def __repr__(self):\n",
    "    return f\"<Rainha | {self.cor}>\"\n",
    "\n",
    "class Cavalo(Peca):\n",
    "\n",
    "  def validar_movimento(self, posicao_final):\n",
    "    des_linha = abs(self.posicao[0] - self.posicao_final[0])\n",
    "    des_coluna = abs(self.posicao[1] - self.posicao_final[1])\n",
    "    return (des_linha == 2 and des_coluna == 1) or (des_linha == 1 and des_coluna == 2)\n",
    "\n",
    "  def __repr__(self):\n",
    "    return f\"<Cavalo | {self.cor}>\"\n",
    "\n",
    "class Peao(Peca):\n",
    "\n",
    "  def __init__(self, cor, posicao):\n",
    "    super().__init__(cor, posicao)\n",
    "    self.primeiro_movimento = True\n",
    "\n",
    "  def validar_movimento(self, posicao_final):\n",
    "    des_linha = self.posicao[0] - self.posicao_final[0]\n",
    "    des_coluna = abs(self.posicao[1] - self.posicao_final[1])\n",
    "\n",
    "    if self.cor == \"branco\":\n",
    "      if self.primeiro_movimento and des_linha in (1, 2) and des_coluna == 0:\n",
    "        return True\n",
    "      return (des_linha == 1 and des_coluna == 0)\n",
    "    else:\n",
    "      if self.primeiro_movimento and des_linha in (-1, -2) and des_coluna == 0:\n",
    "        return True\n",
    "      return (des_linha == -1 and des_coluna == 0)\n",
    "\n",
    "  def __repr__(self):\n",
    "    return f\"<Peão | {self.cor}>\""
   ]
  },
  {
   "cell_type": "code",
   "execution_count": 4,
   "metadata": {
    "id": "kJDQR3Jd3HMy"
   },
   "outputs": [],
   "source": [
    "# Constantes\n",
    "ESTADO_INICIAL = [\n",
    "    [\"tb\", \"cb\", \"bb\", \"db\", \"rb\", \"bb\", \"cb\", \"tb\"],\n",
    "    [\"pb\", \"pb\", \"pb\", \"pb\", \"pb\", \"pb\", \"pb\", \"pb\"],\n",
    "    [None, None, None, None, None, None, None, None],\n",
    "    [None, None, None, None, None, None, None, None],\n",
    "    [None, None, None, None, None, None, None, None],\n",
    "    [None, None, None, None, None, None, None, None],\n",
    "    [\"pp\", \"pp\", \"pp\", \"pp\", \"pp\", \"pp\", \"pp\", \"pp\"],\n",
    "    [\"tp\", \"cp\", \"bp\", \"dp\", \"rp\", \"bp\", \"cp\", \"tp\"],\n",
    "]\n",
    "\n",
    "TIPOS = {\"t\" : Torre, \"c\": Cavalo, \"b\": Bispo,\n",
    "         \"d\": Rainha, \"r\": Rei, \"p\": Peao}"
   ]
  },
  {
   "cell_type": "code",
   "execution_count": 5,
   "metadata": {
    "id": "IajB7biOwYc5"
   },
   "outputs": [],
   "source": [
    "class Tabuleiro:\n",
    "\n",
    "  def __init__(self):\n",
    "    self.casas = []\n",
    "\n",
    "  def iniciar_tabuleiro(self):\n",
    "\n",
    "    for i, linha in enumerate(ESTADO_INICIAL):\n",
    "      l = []\n",
    "      for j, coluna in enumerate(linha):\n",
    "        if not coluna:\n",
    "          l.append(None)\n",
    "          continue\n",
    "        tipo, cor = coluna[0], coluna[1]\n",
    "        l.append(TIPOS[tipo](cor, (i,j)))\n",
    "      self.casas.append(l)\n"
   ]
  },
  {
   "cell_type": "code",
   "execution_count": 6,
   "metadata": {
    "colab": {
     "base_uri": "https://localhost:8080/"
    },
    "id": "1k9inU_56MaO",
    "outputId": "07012c7c-fd18-433e-d5db-52fd05c08801"
   },
   "outputs": [
    {
     "name": "stdout",
     "output_type": "stream",
     "text": [
      "[<Torre | b>, <Cavalo | b>, <Bispo | b>, <Rainha | b>, <Rei | b>, <Bispo | b>, <Cavalo | b>, <Torre | b>]\n",
      "[<Peão | b>, <Peão | b>, <Peão | b>, <Peão | b>, <Peão | b>, <Peão | b>, <Peão | b>, <Peão | b>]\n",
      "[None, None, None, None, None, None, None, None]\n",
      "[None, None, None, None, None, None, None, None]\n",
      "[None, None, None, None, None, None, None, None]\n",
      "[None, None, None, None, None, None, None, None]\n",
      "[<Peão | p>, <Peão | p>, <Peão | p>, <Peão | p>, <Peão | p>, <Peão | p>, <Peão | p>, <Peão | p>]\n",
      "[<Torre | p>, <Cavalo | p>, <Bispo | p>, <Rainha | p>, <Rei | p>, <Bispo | p>, <Cavalo | p>, <Torre | p>]\n"
     ]
    }
   ],
   "source": [
    "tab = Tabuleiro()\n",
    "\n",
    "tab.iniciar_tabuleiro()\n",
    "for linha in tab.casas:\n",
    "  print(linha)"
   ]
  }
 ],
 "metadata": {
  "colab": {
   "provenance": []
  },
  "kernelspec": {
   "display_name": "Python 3 (ipykernel)",
   "language": "python",
   "name": "python3"
  },
  "language_info": {
   "codemirror_mode": {
    "name": "ipython",
    "version": 3
   },
   "file_extension": ".py",
   "mimetype": "text/x-python",
   "name": "python",
   "nbconvert_exporter": "python",
   "pygments_lexer": "ipython3",
   "version": "3.10.13"
  }
 },
 "nbformat": 4,
 "nbformat_minor": 4
}
